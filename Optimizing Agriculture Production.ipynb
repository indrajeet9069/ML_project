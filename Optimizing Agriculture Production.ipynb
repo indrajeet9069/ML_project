{
 "cells": [
  {
   "cell_type": "code",
   "execution_count": 1,
   "metadata": {},
   "outputs": [],
   "source": [
    "# for manipulations\n",
    "import numpy as np\n",
    "import pandas as pd\n",
    "\n",
    "# for data visualizations\n",
    "import matplotlib.pyplot as plt\n",
    "import seaborn as sns\n",
    "\n",
    "# for interactivity \n",
    "from ipywidgets import interact"
   ]
  },
  {
   "cell_type": "code",
   "execution_count": 2,
   "metadata": {},
   "outputs": [
    {
     "data": {
      "text/html": [
       "<div>\n",
       "<style scoped>\n",
       "    .dataframe tbody tr th:only-of-type {\n",
       "        vertical-align: middle;\n",
       "    }\n",
       "\n",
       "    .dataframe tbody tr th {\n",
       "        vertical-align: top;\n",
       "    }\n",
       "\n",
       "    .dataframe thead th {\n",
       "        text-align: right;\n",
       "    }\n",
       "</style>\n",
       "<table border=\"1\" class=\"dataframe\">\n",
       "  <thead>\n",
       "    <tr style=\"text-align: right;\">\n",
       "      <th></th>\n",
       "      <th>N</th>\n",
       "      <th>P</th>\n",
       "      <th>K</th>\n",
       "      <th>temperature</th>\n",
       "      <th>humidity</th>\n",
       "      <th>ph</th>\n",
       "      <th>rainfall</th>\n",
       "      <th>label</th>\n",
       "    </tr>\n",
       "  </thead>\n",
       "  <tbody>\n",
       "    <tr>\n",
       "      <th>0</th>\n",
       "      <td>90</td>\n",
       "      <td>42</td>\n",
       "      <td>43</td>\n",
       "      <td>20.879744</td>\n",
       "      <td>82.002744</td>\n",
       "      <td>6.502985</td>\n",
       "      <td>202.935536</td>\n",
       "      <td>rice</td>\n",
       "    </tr>\n",
       "    <tr>\n",
       "      <th>1</th>\n",
       "      <td>85</td>\n",
       "      <td>58</td>\n",
       "      <td>41</td>\n",
       "      <td>21.770462</td>\n",
       "      <td>80.319644</td>\n",
       "      <td>7.038096</td>\n",
       "      <td>226.655537</td>\n",
       "      <td>rice</td>\n",
       "    </tr>\n",
       "    <tr>\n",
       "      <th>2</th>\n",
       "      <td>60</td>\n",
       "      <td>55</td>\n",
       "      <td>44</td>\n",
       "      <td>23.004459</td>\n",
       "      <td>82.320763</td>\n",
       "      <td>7.840207</td>\n",
       "      <td>263.964248</td>\n",
       "      <td>rice</td>\n",
       "    </tr>\n",
       "    <tr>\n",
       "      <th>3</th>\n",
       "      <td>74</td>\n",
       "      <td>35</td>\n",
       "      <td>40</td>\n",
       "      <td>26.491096</td>\n",
       "      <td>80.158363</td>\n",
       "      <td>6.980401</td>\n",
       "      <td>242.864034</td>\n",
       "      <td>rice</td>\n",
       "    </tr>\n",
       "    <tr>\n",
       "      <th>4</th>\n",
       "      <td>78</td>\n",
       "      <td>42</td>\n",
       "      <td>42</td>\n",
       "      <td>20.130175</td>\n",
       "      <td>81.604873</td>\n",
       "      <td>7.628473</td>\n",
       "      <td>262.717340</td>\n",
       "      <td>rice</td>\n",
       "    </tr>\n",
       "  </tbody>\n",
       "</table>\n",
       "</div>"
      ],
      "text/plain": [
       "    N   P   K  temperature   humidity        ph    rainfall label\n",
       "0  90  42  43    20.879744  82.002744  6.502985  202.935536  rice\n",
       "1  85  58  41    21.770462  80.319644  7.038096  226.655537  rice\n",
       "2  60  55  44    23.004459  82.320763  7.840207  263.964248  rice\n",
       "3  74  35  40    26.491096  80.158363  6.980401  242.864034  rice\n",
       "4  78  42  42    20.130175  81.604873  7.628473  262.717340  rice"
      ]
     },
     "execution_count": 2,
     "metadata": {},
     "output_type": "execute_result"
    }
   ],
   "source": [
    "df = pd.read_csv(\"data.csv\")\n",
    "df.head()"
   ]
  },
  {
   "cell_type": "code",
   "execution_count": 3,
   "metadata": {},
   "outputs": [
    {
     "data": {
      "text/plain": [
       "N              0\n",
       "P              0\n",
       "K              0\n",
       "temperature    0\n",
       "humidity       0\n",
       "ph             0\n",
       "rainfall       0\n",
       "label          0\n",
       "dtype: int64"
      ]
     },
     "execution_count": 3,
     "metadata": {},
     "output_type": "execute_result"
    }
   ],
   "source": [
    "df.isnull().sum()"
   ]
  },
  {
   "cell_type": "code",
   "execution_count": 4,
   "metadata": {},
   "outputs": [
    {
     "name": "stdout",
     "output_type": "stream",
     "text": [
      "Shape of Dataset (2200, 8)\n"
     ]
    }
   ],
   "source": [
    "print(\"Shape of Dataset\" ,df.shape)"
   ]
  },
  {
   "cell_type": "code",
   "execution_count": 5,
   "metadata": {},
   "outputs": [
    {
     "data": {
      "text/plain": [
       "kidneybeans    100\n",
       "maize          100\n",
       "jute           100\n",
       "orange         100\n",
       "mungbean       100\n",
       "papaya         100\n",
       "banana         100\n",
       "coffee         100\n",
       "cotton         100\n",
       "muskmelon      100\n",
       "watermelon     100\n",
       "pomegranate    100\n",
       "apple          100\n",
       "grapes         100\n",
       "coconut        100\n",
       "lentil         100\n",
       "blackgram      100\n",
       "pigeonpeas     100\n",
       "chickpea       100\n",
       "rice           100\n",
       "mothbeans      100\n",
       "mango          100\n",
       "Name: label, dtype: int64"
      ]
     },
     "execution_count": 5,
     "metadata": {},
     "output_type": "execute_result"
    }
   ],
   "source": [
    "df['label'].value_counts()"
   ]
  },
  {
   "cell_type": "code",
   "execution_count": 6,
   "metadata": {},
   "outputs": [
    {
     "name": "stdout",
     "output_type": "stream",
     "text": [
      "Avarage Ratio of Nitrogen in soil : 50.55\n",
      "Avarage Ratio of Phosphorous in soil : 53.36\n",
      "Avarage Ratio of Potassium in soil : 48.15\n",
      "Avarage Tempature in Celsius : 25.62\n",
      "Avarage Relative Humidity in % : 71.48 \n",
      "Avarage PH Value of soil : 6.47\n",
      "Avarage Rainfall in mm : 103.46\n"
     ]
    }
   ],
   "source": [
    "print(\"Avarage Ratio of Nitrogen in soil : {0:.2f}\".format(df['N'].mean()))\n",
    "print(\"Avarage Ratio of Phosphorous in soil : {0:.2f}\".format(df['P'].mean()))\n",
    "print(\"Avarage Ratio of Potassium in soil : {0:.2f}\".format(df['K'].mean()))\n",
    "print(\"Avarage Tempature in Celsius : {0:.2f}\".format(df['temperature'].mean()))\n",
    "print(\"Avarage Relative Humidity in % : {0:.2f} \" .format(df[\"humidity\"].mean()))\n",
    "print(\"Avarage PH Value of soil : {0:.2f}\".format(df['ph'].mean()))\n",
    "print(\"Avarage Rainfall in mm : {0:.2f}\".format(df['rainfall'].mean()))"
   ]
  },
  {
   "cell_type": "code",
   "execution_count": 7,
   "metadata": {},
   "outputs": [
    {
     "data": {
      "application/vnd.jupyter.widget-view+json": {
       "model_id": "055fe2f2d3074accab3cc605e4f31735",
       "version_major": 2,
       "version_minor": 0
      },
      "text/plain": [
       "interactive(children=(Dropdown(description='crops', options=('kidneybeans', 'maize', 'jute', 'orange', 'mungbe…"
      ]
     },
     "metadata": {},
     "output_type": "display_data"
    }
   ],
   "source": [
    "@interact\n",
    "def summary(crops = list(df['label'].value_counts().index)):\n",
    "    x=df[df['label']==crops]\n",
    "    print(\"-----------------------------------\")\n",
    "    print(\"Statistics for Nitrogen\")\n",
    "    print(\"Minimum Nitrogen required : \",x['N'].min())\n",
    "    print(\"Average Nitrogen required : \",x['N'].mean())\n",
    "    print(\"Maximum Nitrogen required : \",x['N'].max())\n",
    "    print(\"-----------------------------------\")\n",
    "    print(\"Statistics for Phosphorous\")\n",
    "    print(\"Minimum Phosphorous required : \",x['P'].min())\n",
    "    print(\"Average Phosphorous required : \",x['P'].mean())\n",
    "    print(\"Maximum Phosphorous required : \",x['P'].max())\n",
    "    print(\"-----------------------------------\")\n",
    "    print(\"Statistics for Potassium\")\n",
    "    print(\"Minimum Potassium required : \",x['K'].min())\n",
    "    print(\"Average Potassium required : \",x['K'].mean())\n",
    "    print(\"Maximum Potassium required : \",x['K'].max())\n",
    "    print(\"-----------------------------------\")\n",
    "    print(\"Statistics for temperature\")\n",
    "    print(\"Minimum temperature required : {0:.2f} \".format(x['temperature'].min()))\n",
    "    print(\"Average temperature required : {0:.2f} \".format(x['temperature'].mean()))\n",
    "    print(\"Maximum temperature required : {0:.2f} \".format(x['temperature'].max()))\n",
    "    print(\"-----------------------------------\")\n",
    "    print(\"Statistics for humidity\")\n",
    "    print(\"Minimum humidity required :{0:.2f} \".format(x['humidity'].min()))\n",
    "    print(\"Average humidity required : {0:.2f} \".format(x['humidity'].mean()))\n",
    "    print(\"Maximum humidity required : {0:.2f} \".format(x['humidity'].max()))\n",
    "    print(\"-----------------------------------\")\n",
    "    print(\"Statistics for ph\")\n",
    "    print(\"Minimum ph required : {0:.2f} \".format(x['ph'].min()))\n",
    "    print(\"Average ph required : {0:.2f} \".format(x['ph'].mean()))\n",
    "    print(\"Maximum ph required : {0:.2f} \".format(x['ph'].max()))\n",
    "    print(\"-----------------------------------\")\n",
    "    print(\"Statistics for rainfall\")\n",
    "    print(\"Minimum rainfall required : {0:.2f} \".format(x['rainfall'].min()))\n",
    "    print(\"Average rainfall required :{0:.2f} \".format(x['rainfall'].mean()))\n",
    "    print(\"Maximum rainfall required : {0:.2f} \".format(x['rainfall'].max()))\n",
    "    \n",
    "    "
   ]
  },
  {
   "cell_type": "code",
   "execution_count": 8,
   "metadata": {},
   "outputs": [
    {
     "data": {
      "application/vnd.jupyter.widget-view+json": {
       "model_id": "1818eb3e04644f32a97c7d6cc0c1a366",
       "version_major": 2,
       "version_minor": 0
      },
      "text/plain": [
       "interactive(children=(Dropdown(description='conditions', options=('N', 'P', 'K', 'temperature', 'ph', 'humidit…"
      ]
     },
     "metadata": {},
     "output_type": "display_data"
    }
   ],
   "source": [
    "@interact\n",
    "def compare(conditions=['N', 'P','K', 'temperature', 'ph', 'humidity','rainfall']):\n",
    "    print(\"Average Value for\", conditions, \"is {0:.2f}\".format(df[conditions].mean()))\n",
    "    print(\"--------------------------------------\")\n",
    "    print(\"Rice : {0:.2f}\".format(df[(df['label'] == 'rice')][conditions].mean()))\n",
    "    print(\"Black Grams : {0:.2f}\".format(df[(df['label'] == 'blackgram')][conditions].mean()))\n",
    "    print(\"Banana : {0:.2f}\".format(df[(df['label'] == 'banana')][conditions].mean()))\n",
    "    print(\"chickpea : {0:.2f}\".format(df[(df['label'] == 'chickpea')][conditions].mean()))\n",
    "    print(\"coffee : {0:.2f}\".format(df[(df['label'] == 'coffee')][conditions].mean()))\n",
    "    print(\"mothbeans : {0:.2f}\".format(df[(df['label'] == 'mothbeans')][conditions].mean()))\n",
    "    print(\"apple : {0:.2f}\".format(df[(df['label'] == 'apple')][conditions].mean()))\n",
    "    print(\"mango : {0:.2f}\".format(df[(df['label'] == 'mango')][conditions].mean()))\n",
    "    print(\"papaya : {0:.2f}\".format(df[(df['label'] == 'papaya')][conditions].mean()))\n",
    "    print(\"jute : {0:.2f}\".format(df[(df['label'] == 'jute')][conditions].mean()))\n",
    "    print(\"kidneybeans : {0:.2f}\".format(df[(df['label'] == 'kidneybeans')][conditions].mean()))\n",
    "    print(\"cotton : {0:.2f}\".format(df[(df['label'] == 'cotton')][conditions].mean()))\n",
    "    print(\"coconut : {0:.2f}\".format(df[(df['label'] == 'coconut')][conditions].mean()))\n",
    "    print(\"pomegranate : {0:.2f}\".format(df[(df['label'] == 'pomegranate')][conditions].mean()))\n",
    "    print(\"pigeonpeas : {0:.2f}\".format(df[(df['label'] == 'pigeonpeas')][conditions].mean()))\n",
    "    print(\"mungbean  : {0:.2f}\".format(df[(df['label'] == 'mungbean')][conditions].mean()))\n",
    "    print(\"orange : {0:.2f}\".format(df[(df['label'] == 'orange')][conditions].mean()))\n",
    "    print(\"watermelon : {0:.2f}\".format(df[(df['label'] == 'watermelon')][conditions].mean()))\n",
    "    print(\"maize : {0:.2f}\".format(df[(df['label'] == 'maize')][conditions].mean()))\n",
    "    print(\"muskmelon : {0:.2f}\".format(df[(df['label'] == 'muskmelon')][conditions].mean()))\n",
    "    print(\"grapes : {0:.2f}\".format(df[(df['label'] == 'grapes')][conditions].mean()))\n",
    "    print(\"lentil : {0:.2f}\".format(df[(df['label'] == 'lentil')][conditions].mean()))\n",
    "    "
   ]
  },
  {
   "cell_type": "code",
   "execution_count": 9,
   "metadata": {},
   "outputs": [
    {
     "data": {
      "application/vnd.jupyter.widget-view+json": {
       "model_id": "bea85c2887db4d0ba279261d4779634e",
       "version_major": 2,
       "version_minor": 0
      },
      "text/plain": [
       "interactive(children=(Dropdown(description='conditions', options=('N', 'P', 'K', 'temperature', 'ph', 'humidit…"
      ]
     },
     "metadata": {},
     "output_type": "display_data"
    }
   ],
   "source": [
    "@interact\n",
    "def compare(conditions=['N', 'P','K', 'temperature', 'ph', 'humidity','rainfall']):\n",
    "    print(\"Average Value for\", conditions, \"is {0:.2f}\".format(df[conditions].mean()))\n",
    "    print(\"\\n\")    \n",
    "    \n",
    "    print(\"crop which require grater than average\", conditions)\n",
    "    print(\"--------------------------------------------------\")\n",
    "    print(df[df[conditions] > df[conditions].mean()]['label'].unique(),\"\\n\\n\")\n",
    "    \n",
    "    \n",
    "    print(\"crop which require less than average\", conditions)\n",
    "    print(\"--------------------------------------------------\")\n",
    "    print(df[df[conditions] <= df[conditions].mean()]['label'].unique())"
   ]
  },
  {
   "cell_type": "code",
   "execution_count": 10,
   "metadata": {},
   "outputs": [
    {
     "ename": "AttributeError",
     "evalue": "module 'seaborn' has no attribute 'distpl'",
     "output_type": "error",
     "traceback": [
      "\u001b[1;31m---------------------------------------------------------------------------\u001b[0m",
      "\u001b[1;31mAttributeError\u001b[0m                            Traceback (most recent call last)",
      "\u001b[1;32m<ipython-input-10-6727d4112630>\u001b[0m in \u001b[0;36m<module>\u001b[1;34m\u001b[0m\n\u001b[0;32m      1\u001b[0m \u001b[0mplt\u001b[0m\u001b[1;33m.\u001b[0m\u001b[0msubplot\u001b[0m\u001b[1;33m(\u001b[0m\u001b[1;36m2\u001b[0m\u001b[1;33m,\u001b[0m\u001b[1;36m4\u001b[0m\u001b[1;33m,\u001b[0m\u001b[1;36m1\u001b[0m\u001b[1;33m)\u001b[0m\u001b[1;33m\u001b[0m\u001b[1;33m\u001b[0m\u001b[0m\n\u001b[1;32m----> 2\u001b[1;33m \u001b[0msns\u001b[0m\u001b[1;33m.\u001b[0m\u001b[0mdistpl\u001b[0m\u001b[1;33m\u001b[0m\u001b[1;33m\u001b[0m\u001b[0m\n\u001b[0m\u001b[0;32m      3\u001b[0m \u001b[0mplt\u001b[0m\u001b[1;33m.\u001b[0m\u001b[0mgrid\u001b[0m\u001b[1;33m(\u001b[0m\u001b[1;33m)\u001b[0m\u001b[1;33m\u001b[0m\u001b[1;33m\u001b[0m\u001b[0m\n",
      "\u001b[1;31mAttributeError\u001b[0m: module 'seaborn' has no attribute 'distpl'"
     ]
    },
    {
     "data": {
      "image/png": "[encoded data removed]",
      "text/plain": [
       "<Figure size 432x288 with 1 Axes>"
      ]
     },
     "metadata": {
      "needs_background": "light"
     },
     "output_type": "display_data"
    }
   ],
   "source": [
    "\n",
    "plt.subplot(2,4,1)\n",
    "sns.distpl\n",
    "plt.grid()"
   ]
  }
 ],
 "metadata": {
  "kernelspec": {
   "display_name": "Python 3",
   "language": "python",
   "name": "python3"
  },
  "language_info": {
   "codemirror_mode": {
    "name": "ipython",
    "version": 3
   },
   "file_extension": ".py",
   "mimetype": "text/x-python",
   "name": "python",
   "nbconvert_exporter": "python",
   "pygments_lexer": "ipython3",
   "version": "3.7.6"
  }
 },
 "nbformat": 4,
 "nbformat_minor": 4
}
