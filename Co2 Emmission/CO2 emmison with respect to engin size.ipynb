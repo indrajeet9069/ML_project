{
 "cells": [
  {
   "cell_type": "code",
   "execution_count": 24,
   "metadata": {},
   "outputs": [],
   "source": [
    "# importing necessary libraries\n",
    "import pandas as pd\n",
    "import seaborn as sns\n",
    "import matplotlib.pyplot as plt\n",
    "import numpy as np\n",
    "from math import sqrt"
   ]
  },
  {
   "cell_type": "code",
   "execution_count": 25,
   "metadata": {},
   "outputs": [
    {
     "data": {
      "text/html": [
       "<div>\n",
       "<style scoped>\n",
       "    .dataframe tbody tr th:only-of-type {\n",
       "        vertical-align: middle;\n",
       "    }\n",
       "\n",
       "    .dataframe tbody tr th {\n",
       "        vertical-align: top;\n",
       "    }\n",
       "\n",
       "    .dataframe thead th {\n",
       "        text-align: right;\n",
       "    }\n",
       "</style>\n",
       "<table border=\"1\" class=\"dataframe\">\n",
       "  <thead>\n",
       "    <tr style=\"text-align: right;\">\n",
       "      <th></th>\n",
       "      <th>MODELYEAR</th>\n",
       "      <th>MAKE</th>\n",
       "      <th>MODEL</th>\n",
       "      <th>VEHICLECLASS</th>\n",
       "      <th>ENGINESIZE</th>\n",
       "      <th>CYLINDERS</th>\n",
       "      <th>TRANSMISSION</th>\n",
       "      <th>FUELTYPE</th>\n",
       "      <th>FUELCONSUMPTION_CITY</th>\n",
       "      <th>FUELCONSUMPTION_HWY</th>\n",
       "      <th>FUELCONSUMPTION_COMB</th>\n",
       "      <th>FUELCONSUMPTION_COMB_MPG</th>\n",
       "      <th>CO2EMISSIONS</th>\n",
       "    </tr>\n",
       "  </thead>\n",
       "  <tbody>\n",
       "    <tr>\n",
       "      <th>0</th>\n",
       "      <td>2014</td>\n",
       "      <td>ACURA</td>\n",
       "      <td>ILX</td>\n",
       "      <td>COMPACT</td>\n",
       "      <td>2.0</td>\n",
       "      <td>4</td>\n",
       "      <td>AS5</td>\n",
       "      <td>Z</td>\n",
       "      <td>9.9</td>\n",
       "      <td>6.7</td>\n",
       "      <td>8.5</td>\n",
       "      <td>33</td>\n",
       "      <td>196</td>\n",
       "    </tr>\n",
       "    <tr>\n",
       "      <th>1</th>\n",
       "      <td>2014</td>\n",
       "      <td>ACURA</td>\n",
       "      <td>ILX</td>\n",
       "      <td>COMPACT</td>\n",
       "      <td>2.4</td>\n",
       "      <td>4</td>\n",
       "      <td>M6</td>\n",
       "      <td>Z</td>\n",
       "      <td>11.2</td>\n",
       "      <td>7.7</td>\n",
       "      <td>9.6</td>\n",
       "      <td>29</td>\n",
       "      <td>221</td>\n",
       "    </tr>\n",
       "    <tr>\n",
       "      <th>2</th>\n",
       "      <td>2014</td>\n",
       "      <td>ACURA</td>\n",
       "      <td>ILX HYBRID</td>\n",
       "      <td>COMPACT</td>\n",
       "      <td>1.5</td>\n",
       "      <td>4</td>\n",
       "      <td>AV7</td>\n",
       "      <td>Z</td>\n",
       "      <td>6.0</td>\n",
       "      <td>5.8</td>\n",
       "      <td>5.9</td>\n",
       "      <td>48</td>\n",
       "      <td>136</td>\n",
       "    </tr>\n",
       "    <tr>\n",
       "      <th>3</th>\n",
       "      <td>2014</td>\n",
       "      <td>ACURA</td>\n",
       "      <td>MDX 4WD</td>\n",
       "      <td>SUV - SMALL</td>\n",
       "      <td>3.5</td>\n",
       "      <td>6</td>\n",
       "      <td>AS6</td>\n",
       "      <td>Z</td>\n",
       "      <td>12.7</td>\n",
       "      <td>9.1</td>\n",
       "      <td>11.1</td>\n",
       "      <td>25</td>\n",
       "      <td>255</td>\n",
       "    </tr>\n",
       "    <tr>\n",
       "      <th>4</th>\n",
       "      <td>2014</td>\n",
       "      <td>ACURA</td>\n",
       "      <td>RDX AWD</td>\n",
       "      <td>SUV - SMALL</td>\n",
       "      <td>3.5</td>\n",
       "      <td>6</td>\n",
       "      <td>AS6</td>\n",
       "      <td>Z</td>\n",
       "      <td>12.1</td>\n",
       "      <td>8.7</td>\n",
       "      <td>10.6</td>\n",
       "      <td>27</td>\n",
       "      <td>244</td>\n",
       "    </tr>\n",
       "  </tbody>\n",
       "</table>\n",
       "</div>"
      ],
      "text/plain": [
       "   MODELYEAR   MAKE       MODEL VEHICLECLASS  ENGINESIZE  CYLINDERS  \\\n",
       "0       2014  ACURA         ILX      COMPACT         2.0          4   \n",
       "1       2014  ACURA         ILX      COMPACT         2.4          4   \n",
       "2       2014  ACURA  ILX HYBRID      COMPACT         1.5          4   \n",
       "3       2014  ACURA     MDX 4WD  SUV - SMALL         3.5          6   \n",
       "4       2014  ACURA     RDX AWD  SUV - SMALL         3.5          6   \n",
       "\n",
       "  TRANSMISSION FUELTYPE  FUELCONSUMPTION_CITY  FUELCONSUMPTION_HWY  \\\n",
       "0          AS5        Z                   9.9                  6.7   \n",
       "1           M6        Z                  11.2                  7.7   \n",
       "2          AV7        Z                   6.0                  5.8   \n",
       "3          AS6        Z                  12.7                  9.1   \n",
       "4          AS6        Z                  12.1                  8.7   \n",
       "\n",
       "   FUELCONSUMPTION_COMB  FUELCONSUMPTION_COMB_MPG  CO2EMISSIONS  \n",
       "0                   8.5                        33           196  \n",
       "1                   9.6                        29           221  \n",
       "2                   5.9                        48           136  \n",
       "3                  11.1                        25           255  \n",
       "4                  10.6                        27           244  "
      ]
     },
     "execution_count": 25,
     "metadata": {},
     "output_type": "execute_result"
    }
   ],
   "source": [
    "df = pd.read_csv('FuelConsumptionCo2.csv')\n",
    "df.head(5)"
   ]
  },
  {
   "cell_type": "code",
   "execution_count": 26,
   "metadata": {},
   "outputs": [
    {
     "data": {
      "text/plain": [
       "(1067, 13)"
      ]
     },
     "execution_count": 26,
     "metadata": {},
     "output_type": "execute_result"
    }
   ],
   "source": [
    "df.shape"
   ]
  },
  {
   "cell_type": "code",
   "execution_count": 27,
   "metadata": {},
   "outputs": [
    {
     "data": {
      "text/plain": [
       "MODELYEAR                   0\n",
       "MAKE                        0\n",
       "MODEL                       0\n",
       "VEHICLECLASS                0\n",
       "ENGINESIZE                  0\n",
       "CYLINDERS                   0\n",
       "TRANSMISSION                0\n",
       "FUELTYPE                    0\n",
       "FUELCONSUMPTION_CITY        0\n",
       "FUELCONSUMPTION_HWY         0\n",
       "FUELCONSUMPTION_COMB        0\n",
       "FUELCONSUMPTION_COMB_MPG    0\n",
       "CO2EMISSIONS                0\n",
       "dtype: int64"
      ]
     },
     "execution_count": 27,
     "metadata": {},
     "output_type": "execute_result"
    }
   ],
   "source": [
    "df.isnull().sum()"
   ]
  },
  {
   "cell_type": "code",
   "execution_count": 28,
   "metadata": {},
   "outputs": [
    {
     "name": "stdout",
     "output_type": "stream",
     "text": [
      "<class 'pandas.core.frame.DataFrame'>\n",
      "RangeIndex: 1067 entries, 0 to 1066\n",
      "Data columns (total 13 columns):\n",
      " #   Column                    Non-Null Count  Dtype  \n",
      "---  ------                    --------------  -----  \n",
      " 0   MODELYEAR                 1067 non-null   int64  \n",
      " 1   MAKE                      1067 non-null   object \n",
      " 2   MODEL                     1067 non-null   object \n",
      " 3   VEHICLECLASS              1067 non-null   object \n",
      " 4   ENGINESIZE                1067 non-null   float64\n",
      " 5   CYLINDERS                 1067 non-null   int64  \n",
      " 6   TRANSMISSION              1067 non-null   object \n",
      " 7   FUELTYPE                  1067 non-null   object \n",
      " 8   FUELCONSUMPTION_CITY      1067 non-null   float64\n",
      " 9   FUELCONSUMPTION_HWY       1067 non-null   float64\n",
      " 10  FUELCONSUMPTION_COMB      1067 non-null   float64\n",
      " 11  FUELCONSUMPTION_COMB_MPG  1067 non-null   int64  \n",
      " 12  CO2EMISSIONS              1067 non-null   int64  \n",
      "dtypes: float64(4), int64(4), object(5)\n",
      "memory usage: 108.5+ KB\n"
     ]
    }
   ],
   "source": [
    "df.info()"
   ]
  },
  {
   "cell_type": "code",
   "execution_count": 29,
   "metadata": {},
   "outputs": [
    {
     "data": {
      "text/plain": [
       "<matplotlib.axes._subplots.AxesSubplot at 0x262946d4108>"
      ]
     },
     "execution_count": 29,
     "metadata": {},
     "output_type": "execute_result"
    },
    {
     "data": {
      "image/png": "[encoded data removed]",
      "text/plain": [
       "<Figure size 1440x576 with 2 Axes>"
      ]
     },
     "metadata": {
      "needs_background": "light"
     },
     "output_type": "display_data"
    }
   ],
   "source": [
    "plt.figure(figsize=(20,8))\n",
    "sns.heatmap(data=df.corr(),annot=True,linewidths=0.2,cmap='gist_earth', square=True)"
   ]
  },
  {
   "cell_type": "code",
   "execution_count": 30,
   "metadata": {},
   "outputs": [
    {
     "data": {
      "image/png": "[encoded data removed]",
      "text/plain": [
       "<Figure size 1008x432 with 1 Axes>"
      ]
     },
     "metadata": {
      "needs_background": "light"
     },
     "output_type": "display_data"
    }
   ],
   "source": [
    "# ploting graph engine size & CO2 emissions\n",
    "plt.figure(figsize=(14,6))\n",
    "sns.lineplot(x=df['ENGINESIZE'], y=df['CO2EMISSIONS'])\n",
    "plt.xlabel('Engine Size')\n",
    "plt.ylabel('CO2 emissions')\n",
    "plt.show()"
   ]
  },
  {
   "cell_type": "markdown",
   "metadata": {},
   "source": [
    "#### The lineplot has positive correlation between the engin size and the carbon emission. With some variation, we can see that the bigger the engine the greater the levels of CO2 emited. "
   ]
  },
  {
   "cell_type": "markdown",
   "metadata": {},
   "source": [
    "## Spliting data to train the model"
   ]
  },
  {
   "cell_type": "code",
   "execution_count": 31,
   "metadata": {},
   "outputs": [],
   "source": [
    "# importing necessary libraries\n",
    "\n",
    "from sklearn import linear_model\n",
    "from sklearn.metrics import r2_score, mean_squared_error,mean_absolute_error\n",
    "from sklearn.model_selection import train_test_split"
   ]
  },
  {
   "cell_type": "code",
   "execution_count": 32,
   "metadata": {},
   "outputs": [],
   "source": [
    "X = df[['ENGINESIZE']]\n",
    "y = df[['CO2EMISSIONS']]"
   ]
  },
  {
   "cell_type": "code",
   "execution_count": 33,
   "metadata": {},
   "outputs": [],
   "source": [
    "# spliting data in train and test with train_test_split\n",
    "X_train, X_test, y_train, y_test = train_test_split(X, y, test_size=0.2)"
   ]
  },
  {
   "cell_type": "code",
   "execution_count": 54,
   "metadata": {},
   "outputs": [
    {
     "name": "stdout",
     "output_type": "stream",
     "text": [
      "intercept is : [126.12831348]\n",
      "Slop is : [[39.0337167]]\n"
     ]
    }
   ],
   "source": [
    "# Linear Equation \n",
    "# Y = MX + C\n",
    "# \"M\" is slop(coef_) and \"C\" is intercept(intercept_)\n",
    "print('intercept is :',model.intercept_)\n",
    "print('Slop is :',model.coef_)"
   ]
  },
  {
   "cell_type": "markdown",
   "metadata": {},
   "source": [
    "## Linear regression model"
   ]
  },
  {
   "cell_type": "code",
   "execution_count": 43,
   "metadata": {},
   "outputs": [
    {
     "data": {
      "text/plain": [
       "LinearRegression(copy_X=True, fit_intercept=True, n_jobs=None, normalize=False)"
      ]
     },
     "execution_count": 43,
     "metadata": {},
     "output_type": "execute_result"
    }
   ],
   "source": [
    "model = linear_model.LinearRegression()\n",
    "model.fit(X_train,y_train)"
   ]
  },
  {
   "cell_type": "code",
   "execution_count": 44,
   "metadata": {},
   "outputs": [
    {
     "data": {
      "image/png": "[encoded data removed]",
      "text/plain": [
       "<Figure size 1152x648 with 1 Axes>"
      ]
     },
     "metadata": {
      "needs_background": "light"
     },
     "output_type": "display_data"
    }
   ],
   "source": [
    "plt.figure(figsize=(16,9))\n",
    "plt.scatter(X, y)\n",
    "plt.plot(X, model.coef_[0][0]*X + model.intercept_[0], '-r') \n",
    "plt.ylabel('CO2 emissions')\n",
    "plt.xlabel('Engine')\n",
    "plt.show()"
   ]
  },
  {
   "cell_type": "code",
   "execution_count": 45,
   "metadata": {},
   "outputs": [
    {
     "data": {
      "text/plain": [
       "array([[344.71712699],\n",
       "       [204.19574688],\n",
       "       [196.38900354],\n",
       "       [208.09911855],\n",
       "       [340.81375532],\n",
       "       [196.38900354],\n",
       "       [251.03620691],\n",
       "       [270.55306526],\n",
       "       [266.64969359],\n",
       "       [204.19574688],\n",
       "       [368.13735701],\n",
       "       [196.38900354],\n",
       "       [243.22946357],\n",
       "       [262.74632192],\n",
       "       [204.19574688],\n",
       "       [266.64969359],\n",
       "       [282.26318027],\n",
       "       [333.00701198],\n",
       "       [204.19574688],\n",
       "       [204.19574688],\n",
       "       [219.80923356],\n",
       "       [243.22946357],\n",
       "       [333.00701198],\n",
       "       [196.38900354],\n",
       "       [368.13735701],\n",
       "       [204.19574688],\n",
       "       [258.84295025],\n",
       "       [274.45643693],\n",
       "       [188.5822602 ],\n",
       "       [188.5822602 ],\n",
       "       [368.13735701],\n",
       "       [262.74632192],\n",
       "       [243.22946357],\n",
       "       [204.19574688],\n",
       "       [223.71260523],\n",
       "       [188.5822602 ],\n",
       "       [188.5822602 ],\n",
       "       [274.45643693],\n",
       "       [243.22946357],\n",
       "       [196.38900354],\n",
       "       [305.68341029],\n",
       "       [223.71260523],\n",
       "       [333.00701198],\n",
       "       [196.38900354],\n",
       "       [204.19574688],\n",
       "       [219.80923356],\n",
       "       [223.71260523],\n",
       "       [176.87214519],\n",
       "       [333.00701198],\n",
       "       [231.51934857],\n",
       "       [368.13735701],\n",
       "       [204.19574688],\n",
       "       [266.64969359],\n",
       "       [356.427242  ],\n",
       "       [274.45643693],\n",
       "       [188.5822602 ],\n",
       "       [262.74632192],\n",
       "       [262.74632192],\n",
       "       [266.64969359],\n",
       "       [223.71260523],\n",
       "       [270.55306526],\n",
       "       [344.71712699],\n",
       "       [266.64969359],\n",
       "       [368.13735701],\n",
       "       [266.64969359],\n",
       "       [219.80923356],\n",
       "       [180.77551686],\n",
       "       [368.13735701],\n",
       "       [266.64969359],\n",
       "       [180.77551686],\n",
       "       [270.55306526],\n",
       "       [282.26318027],\n",
       "       [368.13735701],\n",
       "       [333.00701198],\n",
       "       [262.74632192],\n",
       "       [266.64969359],\n",
       "       [219.80923356],\n",
       "       [321.29689697],\n",
       "       [188.5822602 ],\n",
       "       [375.94410035],\n",
       "       [329.10364031],\n",
       "       [379.84747202],\n",
       "       [270.55306526],\n",
       "       [188.5822602 ],\n",
       "       [333.00701198],\n",
       "       [266.64969359],\n",
       "       [204.19574688],\n",
       "       [180.77551686],\n",
       "       [321.29689697],\n",
       "       [321.29689697],\n",
       "       [258.84295025],\n",
       "       [348.62049866],\n",
       "       [266.64969359],\n",
       "       [270.55306526],\n",
       "       [204.19574688],\n",
       "       [243.22946357],\n",
       "       [321.29689697],\n",
       "       [204.19574688],\n",
       "       [348.62049866],\n",
       "       [340.81375532],\n",
       "       [266.64969359],\n",
       "       [204.19574688],\n",
       "       [329.10364031],\n",
       "       [243.22946357],\n",
       "       [262.74632192],\n",
       "       [180.77551686],\n",
       "       [266.64969359],\n",
       "       [340.81375532],\n",
       "       [321.29689697],\n",
       "       [204.19574688],\n",
       "       [368.13735701],\n",
       "       [321.29689697],\n",
       "       [243.22946357],\n",
       "       [305.68341029],\n",
       "       [180.77551686],\n",
       "       [219.80923356],\n",
       "       [266.64969359],\n",
       "       [243.22946357],\n",
       "       [336.91038365],\n",
       "       [196.38900354],\n",
       "       [243.22946357],\n",
       "       [262.74632192],\n",
       "       [258.84295025],\n",
       "       [368.13735701],\n",
       "       [321.29689697],\n",
       "       [204.19574688],\n",
       "       [333.00701198],\n",
       "       [333.00701198],\n",
       "       [266.64969359],\n",
       "       [333.00701198],\n",
       "       [219.80923356],\n",
       "       [262.74632192],\n",
       "       [223.71260523],\n",
       "       [270.55306526],\n",
       "       [333.00701198],\n",
       "       [266.64969359],\n",
       "       [180.77551686],\n",
       "       [223.71260523],\n",
       "       [196.38900354],\n",
       "       [196.38900354],\n",
       "       [262.74632192],\n",
       "       [266.64969359],\n",
       "       [219.80923356],\n",
       "       [219.80923356],\n",
       "       [270.55306526],\n",
       "       [375.94410035],\n",
       "       [321.29689697],\n",
       "       [266.64969359],\n",
       "       [219.80923356],\n",
       "       [231.51934857],\n",
       "       [196.38900354],\n",
       "       [188.5822602 ],\n",
       "       [219.80923356],\n",
       "       [188.5822602 ],\n",
       "       [204.19574688],\n",
       "       [297.87666695],\n",
       "       [223.71260523],\n",
       "       [204.19574688],\n",
       "       [180.77551686],\n",
       "       [266.64969359],\n",
       "       [219.80923356],\n",
       "       [223.71260523],\n",
       "       [251.03620691],\n",
       "       [321.29689697],\n",
       "       [262.74632192],\n",
       "       [180.77551686],\n",
       "       [333.00701198],\n",
       "       [321.29689697],\n",
       "       [196.38900354],\n",
       "       [243.22946357],\n",
       "       [266.64969359],\n",
       "       [251.03620691],\n",
       "       [262.74632192],\n",
       "       [270.55306526],\n",
       "       [266.64969359],\n",
       "       [262.74632192],\n",
       "       [262.74632192],\n",
       "       [262.74632192],\n",
       "       [262.74632192],\n",
       "       [282.26318027],\n",
       "       [204.19574688],\n",
       "       [243.22946357],\n",
       "       [266.64969359],\n",
       "       [204.19574688],\n",
       "       [321.29689697],\n",
       "       [262.74632192],\n",
       "       [333.00701198],\n",
       "       [297.87666695],\n",
       "       [262.74632192],\n",
       "       [262.74632192],\n",
       "       [270.55306526],\n",
       "       [297.87666695],\n",
       "       [188.5822602 ],\n",
       "       [258.84295025],\n",
       "       [262.74632192],\n",
       "       [243.22946357],\n",
       "       [266.64969359],\n",
       "       [223.71260523],\n",
       "       [360.33061367],\n",
       "       [368.13735701],\n",
       "       [290.06992361],\n",
       "       [188.5822602 ],\n",
       "       [180.77551686],\n",
       "       [204.19574688],\n",
       "       [266.64969359],\n",
       "       [262.74632192],\n",
       "       [282.26318027],\n",
       "       [219.80923356],\n",
       "       [204.19574688],\n",
       "       [223.71260523],\n",
       "       [336.91038365],\n",
       "       [368.13735701],\n",
       "       [219.80923356],\n",
       "       [321.29689697]])"
      ]
     },
     "execution_count": 45,
     "metadata": {},
     "output_type": "execute_result"
    }
   ],
   "source": [
    "predictCO2 = model.predict(X_test)\n",
    "predictCO2"
   ]
  },
  {
   "cell_type": "code",
   "execution_count": 46,
   "metadata": {},
   "outputs": [
    {
     "data": {
      "text/plain": [
       "0.7950862694245493"
      ]
     },
     "execution_count": 46,
     "metadata": {},
     "output_type": "execute_result"
    }
   ],
   "source": [
    "model.score(X_test,y_test)"
   ]
  },
  {
   "cell_type": "markdown",
   "metadata": {},
   "source": [
    "##  polynomial linear regression"
   ]
  },
  {
   "cell_type": "code",
   "execution_count": 47,
   "metadata": {},
   "outputs": [],
   "source": [
    "from sklearn.preprocessing import PolynomialFeatures"
   ]
  },
  {
   "cell_type": "code",
   "execution_count": 48,
   "metadata": {},
   "outputs": [],
   "source": [
    "poly_reg=PolynomialFeatures(degree=2)\n",
    "poly_reg.fit(X_train)\n",
    "x_train_poly= poly_reg.transform(X_train)\n",
    "x_test_poly= poly_reg.transform(X_test)"
   ]
  },
  {
   "cell_type": "code",
   "execution_count": 49,
   "metadata": {},
   "outputs": [
    {
     "name": "stdout",
     "output_type": "stream",
     "text": [
      "(853, 3)\n",
      "(214, 3)\n"
     ]
    }
   ],
   "source": [
    "print(x_train_poly.shape)\n",
    "print(x_test_poly.shape)"
   ]
  },
  {
   "cell_type": "code",
   "execution_count": 51,
   "metadata": {},
   "outputs": [
    {
     "data": {
      "text/plain": [
       "LinearRegression(copy_X=True, fit_intercept=True, n_jobs=None, normalize=False)"
      ]
     },
     "execution_count": 51,
     "metadata": {},
     "output_type": "execute_result"
    }
   ],
   "source": [
    "from sklearn.linear_model import LinearRegression\n",
    "lr = LinearRegression()\n",
    "lr.fit(x_train_poly,y_train)"
   ]
  },
  {
   "cell_type": "code",
   "execution_count": 52,
   "metadata": {},
   "outputs": [
    {
     "data": {
      "text/plain": [
       "0.7963741952275931"
      ]
     },
     "execution_count": 52,
     "metadata": {},
     "output_type": "execute_result"
    }
   ],
   "source": [
    "lr.score(x_test_poly, y_test)"
   ]
  },
  {
   "cell_type": "code",
   "execution_count": 53,
   "metadata": {},
   "outputs": [
    {
     "data": {
      "text/plain": [
       "array([[342.7888659 ],\n",
       "       [202.85662575],\n",
       "       [193.91329466],\n",
       "       [207.28213401],\n",
       "       [339.44036082],\n",
       "       [193.91329466],\n",
       "       [253.93180462],\n",
       "       [273.90533957],\n",
       "       [269.97217562],\n",
       "       [202.85662575],\n",
       "       [362.23369446],\n",
       "       [193.91329466],\n",
       "       [245.72699001],\n",
       "       [266.00824015],\n",
       "       [202.85662575],\n",
       "       [269.97217562],\n",
       "       [285.5202023 ],\n",
       "       [332.65103611],\n",
       "       [202.85662575],\n",
       "       [202.85662575],\n",
       "       [220.37402969],\n",
       "       [245.72699001],\n",
       "       [332.65103611],\n",
       "       [193.91329466],\n",
       "       [362.23369446],\n",
       "       [202.85662575],\n",
       "       [262.01353316],\n",
       "       [277.807732  ],\n",
       "       [184.8468775 ],\n",
       "       [184.8468775 ],\n",
       "       [362.23369446],\n",
       "       [266.00824015],\n",
       "       [245.72699001],\n",
       "       [202.85662575],\n",
       "       [224.67645187],\n",
       "       [184.8468775 ],\n",
       "       [184.8468775 ],\n",
       "       [277.807732  ],\n",
       "       [245.72699001],\n",
       "       [193.91329466],\n",
       "       [307.91909674],\n",
       "       [224.67645187],\n",
       "       [332.65103611],\n",
       "       [193.91329466],\n",
       "       [202.85662575],\n",
       "       [220.37402969],\n",
       "       [224.67645187],\n",
       "       [171.01646535],\n",
       "       [332.65103611],\n",
       "       [233.18898168],\n",
       "       [362.23369446],\n",
       "       [202.85662575],\n",
       "       [269.97217562],\n",
       "       [352.64975202],\n",
       "       [277.807732  ],\n",
       "       [184.8468775 ],\n",
       "       [266.00824015],\n",
       "       [266.00824015],\n",
       "       [269.97217562],\n",
       "       [224.67645187],\n",
       "       [273.90533957],\n",
       "       [342.7888659 ],\n",
       "       [269.97217562],\n",
       "       [362.23369446],\n",
       "       [269.97217562],\n",
       "       [220.37402969],\n",
       "       [175.65737425],\n",
       "       [362.23369446],\n",
       "       [269.97217562],\n",
       "       [175.65737425],\n",
       "       [273.90533957],\n",
       "       [285.5202023 ],\n",
       "       [362.23369446],\n",
       "       [332.65103611],\n",
       "       [266.00824015],\n",
       "       [269.97217562],\n",
       "       [220.37402969],\n",
       "       [322.23626264],\n",
       "       [184.8468775 ],\n",
       "       [368.46913182],\n",
       "       [329.21021647],\n",
       "       [371.54069322],\n",
       "       [273.90533957],\n",
       "       [184.8468775 ],\n",
       "       [332.65103611],\n",
       "       [269.97217562],\n",
       "       [202.85662575],\n",
       "       [175.65737425],\n",
       "       [322.23626264],\n",
       "       [322.23626264],\n",
       "       [262.01353316],\n",
       "       [346.10659946],\n",
       "       [269.97217562],\n",
       "       [273.90533957],\n",
       "       [202.85662575],\n",
       "       [245.72699001],\n",
       "       [322.23626264],\n",
       "       [202.85662575],\n",
       "       [346.10659946],\n",
       "       [339.44036082],\n",
       "       [269.97217562],\n",
       "       [202.85662575],\n",
       "       [329.21021647],\n",
       "       [245.72699001],\n",
       "       [266.00824015],\n",
       "       [175.65737425],\n",
       "       [269.97217562],\n",
       "       [339.44036082],\n",
       "       [322.23626264],\n",
       "       [202.85662575],\n",
       "       [362.23369446],\n",
       "       [322.23626264],\n",
       "       [245.72699001],\n",
       "       [307.91909674],\n",
       "       [175.65737425],\n",
       "       [220.37402969],\n",
       "       [269.97217562],\n",
       "       [245.72699001],\n",
       "       [336.06108423],\n",
       "       [193.91329466],\n",
       "       [245.72699001],\n",
       "       [266.00824015],\n",
       "       [262.01353316],\n",
       "       [362.23369446],\n",
       "       [322.23626264],\n",
       "       [202.85662575],\n",
       "       [332.65103611],\n",
       "       [332.65103611],\n",
       "       [269.97217562],\n",
       "       [332.65103611],\n",
       "       [220.37402969],\n",
       "       [266.00824015],\n",
       "       [224.67645187],\n",
       "       [273.90533957],\n",
       "       [332.65103611],\n",
       "       [269.97217562],\n",
       "       [175.65737425],\n",
       "       [224.67645187],\n",
       "       [193.91329466],\n",
       "       [193.91329466],\n",
       "       [266.00824015],\n",
       "       [269.97217562],\n",
       "       [220.37402969],\n",
       "       [220.37402969],\n",
       "       [273.90533957],\n",
       "       [368.46913182],\n",
       "       [322.23626264],\n",
       "       [269.97217562],\n",
       "       [220.37402969],\n",
       "       [233.18898168],\n",
       "       [193.91329466],\n",
       "       [184.8468775 ],\n",
       "       [220.37402969],\n",
       "       [184.8468775 ],\n",
       "       [202.85662575],\n",
       "       [300.57588467],\n",
       "       [224.67645187],\n",
       "       [202.85662575],\n",
       "       [175.65737425],\n",
       "       [269.97217562],\n",
       "       [220.37402969],\n",
       "       [224.67645187],\n",
       "       [253.93180462],\n",
       "       [322.23626264],\n",
       "       [266.00824015],\n",
       "       [175.65737425],\n",
       "       [332.65103611],\n",
       "       [322.23626264],\n",
       "       [193.91329466],\n",
       "       [245.72699001],\n",
       "       [269.97217562],\n",
       "       [253.93180462],\n",
       "       [266.00824015],\n",
       "       [273.90533957],\n",
       "       [269.97217562],\n",
       "       [266.00824015],\n",
       "       [266.00824015],\n",
       "       [266.00824015],\n",
       "       [266.00824015],\n",
       "       [285.5202023 ],\n",
       "       [202.85662575],\n",
       "       [245.72699001],\n",
       "       [269.97217562],\n",
       "       [202.85662575],\n",
       "       [322.23626264],\n",
       "       [266.00824015],\n",
       "       [332.65103611],\n",
       "       [300.57588467],\n",
       "       [266.00824015],\n",
       "       [266.00824015],\n",
       "       [273.90533957],\n",
       "       [300.57588467],\n",
       "       [184.8468775 ],\n",
       "       [262.01353316],\n",
       "       [266.00824015],\n",
       "       [245.72699001],\n",
       "       [269.97217562],\n",
       "       [224.67645187],\n",
       "       [355.87517102],\n",
       "       [362.23369446],\n",
       "       [293.10958653],\n",
       "       [184.8468775 ],\n",
       "       [175.65737425],\n",
       "       [202.85662575],\n",
       "       [269.97217562],\n",
       "       [266.00824015],\n",
       "       [285.5202023 ],\n",
       "       [220.37402969],\n",
       "       [202.85662575],\n",
       "       [224.67645187],\n",
       "       [336.06108423],\n",
       "       [362.23369446],\n",
       "       [220.37402969],\n",
       "       [322.23626264]])"
      ]
     },
     "execution_count": 53,
     "metadata": {},
     "output_type": "execute_result"
    }
   ],
   "source": [
    "y_pred=lr.predict(x_test_poly)\n",
    "y_pred"
   ]
  },
  {
   "cell_type": "markdown",
   "metadata": {},
   "source": [
    "### calculate mean absolute error"
   ]
  },
  {
   "cell_type": "code",
   "execution_count": 59,
   "metadata": {},
   "outputs": [
    {
     "name": "stdout",
     "output_type": "stream",
     "text": [
      "Sum of squared error (SSE): CO2EMISSIONS    173538.76114\n",
      "dtype: float64\n",
      "Mean squared error (MSE): 810.9287903751424\n",
      "Mean absolute error (MAE): 22.02916246249771\n",
      "Sqrt of mean squared error (RMSE):  28.476811450286046\n",
      "R2-score: 0.7349646985578311\n"
     ]
    }
   ],
   "source": [
    "print(f'Sum of squared error (SSE): {np.sum((predictCO2 - y_test)**2)}') \n",
    "print(f'Mean squared error (MSE): {mean_squared_error(y_test, predictCO2)}') \n",
    "print(f'Mean absolute error (MAE): {mean_absolute_error(y_test, predictCO2)}')\n",
    "print (f'Sqrt of mean squared error (RMSE):  {sqrt(mean_squared_error(y_test, predictCO2))}')\n",
    "print(f'R2-score: {r2_score(predictCO2, y_test)}')"
   ]
  },
  {
   "cell_type": "code",
   "execution_count": null,
   "metadata": {},
   "outputs": [],
   "source": []
  }
 ],
 "metadata": {
  "kernelspec": {
   "display_name": "Python 3",
   "language": "python",
   "name": "python3"
  },
  "language_info": {
   "codemirror_mode": {
    "name": "ipython",
    "version": 3
   },
   "file_extension": ".py",
   "mimetype": "text/x-python",
   "name": "python",
   "nbconvert_exporter": "python",
   "pygments_lexer": "ipython3",
   "version": "3.7.6"
  }
 },
 "nbformat": 4,
 "nbformat_minor": 4
}
